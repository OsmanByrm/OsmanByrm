{
  "nbformat": 4,
  "nbformat_minor": 0,
  "metadata": {
    "colab": {
      "provenance": [],
      "authorship_tag": "ABX9TyMouZXctFkUWP6yubxUbpgq",
      "include_colab_link": true
    },
    "kernelspec": {
      "name": "python3",
      "display_name": "Python 3"
    },
    "language_info": {
      "name": "python"
    }
  },
  "cells": [
    {
      "cell_type": "markdown",
      "metadata": {
        "id": "view-in-github",
        "colab_type": "text"
      },
      "source": [
        "<a href=\"https://colab.research.google.com/github/OsmanByrm/OsmanByrm/blob/main/DeepLearning_Homework.ipynb\" target=\"_parent\"><img src=\"https://colab.research.google.com/assets/colab-badge.svg\" alt=\"Open In Colab\"/></a>"
      ]
    },
    {
      "cell_type": "code",
      "execution_count": null,
      "metadata": {
        "id": "eGWd7l6UWaxD"
      },
      "outputs": [],
      "source": [
        "!pip install -q transformers"
      ]
    },
    {
      "cell_type": "code",
      "source": [
        "!pip install -q youtube_transcript_api"
      ],
      "metadata": {
        "id": "OPXh7OQHZE7D"
      },
      "execution_count": null,
      "outputs": []
    },
    {
      "cell_type": "code",
      "source": [
        "from transformers import pipeline\n",
        "from youtube_transcript_api import YouTubeTranscriptApi"
      ],
      "metadata": {
        "id": "HZAQmqA1ZIGY"
      },
      "execution_count": null,
      "outputs": []
    },
    {
      "cell_type": "code",
      "source": [
        "youtube_video = \"https://www.youtube.com/watch?v=O04_SXPuIv4&t=13s\" #Örnek Barış Özcan Videosu"
      ],
      "metadata": {
        "id": "XJlkKCHnZPET"
      },
      "execution_count": null,
      "outputs": []
    },
    {
      "cell_type": "code",
      "source": [
        "video_id = youtube_video.split(\"=\")[1]"
      ],
      "metadata": {
        "id": "8ycWl3kCZaMH"
      },
      "execution_count": null,
      "outputs": []
    },
    {
      "cell_type": "code",
      "source": [
        "video_id"
      ],
      "metadata": {
        "colab": {
          "base_uri": "https://localhost:8080/",
          "height": 35
        },
        "id": "b5HNyETGZeTM",
        "outputId": "572d7bef-1a41-4736-eedd-86c5e432c303"
      },
      "execution_count": null,
      "outputs": [
        {
          "output_type": "execute_result",
          "data": {
            "text/plain": [
              "'O04_SXPuIv4&t'"
            ],
            "application/vnd.google.colaboratory.intrinsic+json": {
              "type": "string"
            }
          },
          "metadata": {},
          "execution_count": 29
        }
      ]
    },
    {
      "cell_type": "code",
      "source": [
        "from IPython.display import YouTubeVideo\n",
        "YouTubeVideo(video_id)"
      ],
      "metadata": {
        "colab": {
          "base_uri": "https://localhost:8080/",
          "height": 321
        },
        "id": "BZw94kqNZhxu",
        "outputId": "dd7d4379-db4b-4a96-c8c4-2efe13450ec2"
      },
      "execution_count": null,
      "outputs": [
        {
          "output_type": "execute_result",
          "data": {
            "text/plain": [
              "<IPython.lib.display.YouTubeVideo at 0x7e8926810d30>"
            ],
            "text/html": [
              "\n",
              "        <iframe\n",
              "            width=\"400\"\n",
              "            height=\"300\"\n",
              "            src=\"https://www.youtube.com/embed/O04_SXPuIv4&t\"\n",
              "            frameborder=\"0\"\n",
              "            allowfullscreen\n",
              "            \n",
              "        ></iframe>\n",
              "        "
            ]
          },
          "metadata": {},
          "execution_count": 30
        }
      ]
    },
    {
      "cell_type": "code",
      "source": [
        "YouTubeTranscriptApi.get_transcript(video_id, languages=['tr'])\n",
        "transcript = YouTubeTranscriptApi.get_transcript(video_id,languages=['tr'])"
      ],
      "metadata": {
        "id": "EGyVv73YZiYr"
      },
      "execution_count": null,
      "outputs": []
    },
    {
      "cell_type": "code",
      "source": [
        "transcript[0:5]"
      ],
      "metadata": {
        "colab": {
          "base_uri": "https://localhost:8080/"
        },
        "id": "UHoxhHEYZm5k",
        "outputId": "10cccbce-62df-40f9-aabb-8bc73b86d19e"
      },
      "execution_count": null,
      "outputs": [
        {
          "output_type": "execute_result",
          "data": {
            "text/plain": [
              "[{'text': 'Bu ikisi arasında kalsanız, eliniz hangisine gider?',\n",
              "  'start': 16.543,\n",
              "  'duration': 3.747},\n",
              " {'text': 'Bakın ne daha kitabın adını gösterdim size ne de bu tabletin içinde ne olduğunu.',\n",
              "  'start': 21.219,\n",
              "  'duration': 4.966},\n",
              " {'text': 'Ama yine de cevabın hangisi olacağını tahmin edebiliyorum.',\n",
              "  'start': 26.929,\n",
              "  'duration': 4.945},\n",
              " {'text': 'O zaman şöyle bir çevireyimde ne olduklarını da göstereyim size.',\n",
              "  'start': 32.153,\n",
              "  'duration': 3.017},\n",
              " {'text': 'Bu Albert Camus’nün Veba’sı,', 'start': 35.17, 'duration': 2.874}]"
            ]
          },
          "metadata": {},
          "execution_count": 32
        }
      ]
    },
    {
      "cell_type": "code",
      "source": [
        "result = \"\"\n",
        "for i in transcript:\n",
        "    result += ' ' + i['text']\n",
        "#print(result)\n",
        "print(len(result))"
      ],
      "metadata": {
        "colab": {
          "base_uri": "https://localhost:8080/"
        },
        "id": "R_m1HNScZo_X",
        "outputId": "0e2a77ef-3a7e-433c-8f6c-162066d5e60a"
      },
      "execution_count": null,
      "outputs": [
        {
          "output_type": "stream",
          "name": "stdout",
          "text": [
            "11424\n"
          ]
        }
      ]
    },
    {
      "cell_type": "code",
      "source": [
        "summarizer = pipeline('summarization')"
      ],
      "metadata": {
        "colab": {
          "base_uri": "https://localhost:8080/"
        },
        "id": "wi7CgiSCZtUY",
        "outputId": "93dcc4ef-3c8b-43fb-a57a-02067f3db3fb"
      },
      "execution_count": null,
      "outputs": [
        {
          "output_type": "stream",
          "name": "stderr",
          "text": [
            "No model was supplied, defaulted to sshleifer/distilbart-cnn-12-6 and revision a4f8f3e (https://huggingface.co/sshleifer/distilbart-cnn-12-6).\n",
            "Using a pipeline without specifying a model name and revision in production is not recommended.\n"
          ]
        }
      ]
    },
    {
      "cell_type": "code",
      "source": [
        "num_iters = int(len(result)/1000)\n",
        "summarized_text = []\n",
        "for i in range(0, num_iters + 1):\n",
        "  start = 0\n",
        "  start = i * 1000\n",
        "  end = (i + 1) * 1000\n",
        "  print(\"input text \\n\" + result[start:end])\n",
        "  out = summarizer(result[start:end])\n",
        "  out = out[0]\n",
        "  out = out['summary_text']\n",
        "  print(\"Summarized text\\n\"+out)\n",
        "  summarized_text.append(out)\n",
        "\n",
        "#print(summarized_text)"
      ],
      "metadata": {
        "colab": {
          "base_uri": "https://localhost:8080/"
        },
        "id": "-TlXXE7WaQBA",
        "outputId": "1006f2a2-6cdb-4120-e6f0-93434b93ecfe"
      },
      "execution_count": null,
      "outputs": [
        {
          "output_type": "stream",
          "name": "stdout",
          "text": [
            "input text \n",
            " Bu ikisi arasında kalsanız, eliniz hangisine gider? Bakın ne daha kitabın adını gösterdim size ne de bu tabletin içinde ne olduğunu. Ama yine de cevabın hangisi olacağını tahmin edebiliyorum. O zaman şöyle bir çevireyimde ne olduklarını da göstereyim size. Bu Albert Camus’nün Veba’sı, ee bu da öyle. Aslında ikisi de aynı şey, sadece bu kitabı bir de tabletten de açmıştım. Bakın size şimdi tablet şöyle kötüdür, kitap sizi böyle geliştirir, tableti bırakın gidin ve kitap okuyun gibi klişe laflar söylemeyeceğim. Bence ikisi de gerekli çünkü. Ama ikisi de öylesine kullanıldığında, pek de bir anlam ifade etmeyebiliyor. Bazen öyle insanlar vardır ki, elinde neredeyse hiç kitap göremezsiniz ama son derece zeki ve bilgilidirler. Bazen de öyle insanlar vardır ki, sürekli okuyorlardır ama pek de zekası ve bilgisiyle öne çıkmazlar. İşte bu kafa karışıklığı, kitap okumanın çok da elzem olmadığını düşündürtebilir size, ama gerçekler pek öyle değil sevgili dostlarım. Bugün size, kitap okumanın nede\n",
            "Summarized text\n",
            " Aslında ikisi de aynı şey, sadece bu kitabı bir de tabletten de açmıştım . Bakın size şimdi tablet şöyle kötüdür, kitap sizi böyle geliştirir . Ama yine de cevabın hangisi olacağını tahmin edebiliyorum .\n",
            "input text \n",
            "n çok çok çok önemli olduğunu, son bilimsel araştırmaların ışığında anlatacağım. Hazırsanız arkanıza yaslanıp, dinlemeye başlayın. Bu bir kitap, biz ona daha çok ansiklopedi diyoruz. Bu da bir kitap, bu da bir roman buna da kurgu diyoruz. Bu kurgu dışı bu kurgu. Yani kitap, aslında tek bir şey değil. Kitap var, kitap var… Bu bana gökyüzüne baktığımda neler olup bittiğini öğretebilir, suyun sırrını gösterebilir. Moleküllerin nasıl oluştuğunu, yüzey geriliminin ne olduğunu… Bu da beni çölün ortasında böyle bir başıma bırakıp, okyanusları aşmayı hayal ettirebilir. Çok basit bir çerçeveden bakınca, bu kurgusal şeylerin bize çok da bir şey katmaması lazım gibi geliyor. Ne de olsa bilgiler ansiklopedide! Fakat ikisinin de ayrı ayrı katkısı var buraya. Her şeyden önce bu ayrıma varmamız lazım. Yani öyle “Yaa roman okumak çok gereksiz abi, ya bundan ne öğreneceksin ki.” diyorsanız, yanılıyorsunuz. Çünkü araştırmalar bunun aksini gösteriyor. Bir araştırma, yatmadan önce kitap okuyanların beyinl\n",
            "Summarized text\n",
            " Araştırmaların ışığında anlatacağım. Hazırsanız arkanıza yaslanıp, dinlemeye başlayın. Bu da bir kitap, biz ona daha çok ansiklopedi diyoruz . Bu da  bir roman buna da kurgu, bu da   kurgu . Bu kurgusal şeylerin bize Ùsüzey gerilimininin in ne olduğunu…\n",
            "input text \n",
            "erinin sol lobunun, ertesi sabah uyandıklarında daha aktif olduğunu ortaya koyuyor. Beynin bu kısmı, kelimelerin anlamlarını hatırlamamızda anahtar bir rol oynuyor. İşte bu yüzden kitap okumak Alzheimer gibi bir takım hastalıklarla mücadele edebilmek için de harika bir yöntem. Pek bilinmese de bu hastalık ne yazık ki ölüm nedenlerinde en başlarda yer alıyor. Yani, ben öğreneceklerimi videoya da bakarak, izleyerek öğrenirim deyip geçmemek lazım. Sonra yarın bir gün hepsini unutabilirsiniz. Arada bir o tozlu sayfaları çevirmek lazım. İşin sırrı o tozu biraz solumakta. Yani kitaplar sadece öğrenmek için değildir. Eğlenmek içindir, heyecanlanmak içindir. Hayal etmek içindir… Her şeyden önce insan aklı, zekası öyle eskiden sandığımız gibi sıradan bir kavram değil artık. Hatta bu yüzden onu ölçmekte zorlanmaya başladık. Artık IQ’ya eskisi kadar itibar edilmiyor. Başka zeka çeşitlerinden bahsediliyor. IQ'nun yanında EQ'dan mesela. Duygusal zekadan, çoklu zeka kuramından bahsediliyor. Yani eğe\n",
            "Summarized text\n",
            " Alzheimer gibi bir takım hastalıklarla mücadele edebilmek için de harika bir yöntem . Beynin bu kısmı, kelimelerin anlamlarını hatırlamamızda anahtar bir rol oynuyor .\n",
            "input text \n",
            "r zeka deyince aklınıza sadece işte Einstein, ya da Hawking gibi bir takım fizikçiler falan geliyorsa, her şeyden önce bence bu fikirden kurtulmamız lazım. Örneğin Mozart da bir dahiydi. Shakespeare de… Dostoyesvki… \n",
            "Freud… İnsan olmak, sadece matematikte, fende iyi olmaktan ibaret değil ki. İnsan olmak, insanın değerlerini anlayabilmekten geçer. Bir roman okumak size belki atomlar arası etkileşimlerin sırrını anlatmayabilir. Fakat iyi bir insan olmanın ne demek olduğunu anlatabilir. İşte o yüzden bu roman, sadece bir hikaye değildir. Aynı zamanda insanın değerlerinin, insan haklarının, özgürlüklerinin de bir anlatısıdır. Bunu anlamayan bir toplumda, o bilimi de yapamazsınız. Einstein da olamazsınız. Einstein’ın bunca savaştan kaçıp, ömrünün çok önemli bir kısmını insan haklarına ayırması bir tesadüf mü sizce… İşte tüm bunları sıradan görünen bir hayat hikayesiyle anlatabilmek de akıl gerektirir. O yüzden bazı yazarların neden bu kadar önemli olduğunu anlayabilmek için, önce okumamız l\n",
            "Summarized text\n",
            " Hawking gibi bir takım fizikçiler falan geliyorsa, her şeyden önce bence bu fikirden kurtulmamız lazım. Mozart da bir dahiydi. Einstein da olamazsınız. Einstein’ın bunca savaştan kaçıp .\n",
            "input text \n",
            "azım. Belirli eylemler sırasında beynin bazı bölümlerinin daha aktif olduğunu uzun zamandır biliyoruz. Yapılan bir çalışmada araştırmacılar, fMRI görüntüleme cihazında gönüllülerin beyin aktivitelerini izlemişler. Onlara bazı kelimeler söyleyip, bir yandan da ekrandan beyin aktivitesini izlemişler. Örneğin “koyu mavi bir halı” ya da “siyah çizgili kalem” gibi sözcükler göstermişler. Bunu yaptıklarında gönüllülerin hipokampüsünün aktifliğinin arttığı gözlemlenmiş. Yani öğrenme ve hafızadan sorumlu olan bölüm. Fakat sadece bu da değil. Görmeye kıyasla okuma, hayal gücünü de ortaya çıkarıyor. Çünkü bir videoda, filmde olduğu gibi düşünüleni direkt olarak görmüyoruz. Senarist ile yazar arasındaki ayrımlardan biri biraz da bu. Yazar, bazı şeyleri sizin hayal gücünüzle nasıl tamamlayacağınızı da düşünerek yazıyor, boşlukları bırakıyor, kelimelerle resim çiziyor. Bu boşlukları da bizim zihnimiz doldurmaya çalışıyor. O kelimelerle çizilen resim sanki noktalarla yapılmış bir taslak gibi. Arada \n",
            "Summarized text\n",
            " Yapılan bir çalışmada araştırmacılar, fMRI görüntüleme cihazında gönüllülerin beyin aktivitelerini izlemişler . Yani öğrenme ve hafızadan sorumlu olan bölüm. azım.\n",
            "input text \n",
            "boşluklar var ve bu boşlukları da bizim zihnimiz doldurmaya çalışıyor. Siyah çizgili kalem ama kurşun kalem mi yoksa bir pilot kalem mi? Tamamen silindir mi yoksa biraz köşeli mi? Acaba tutma yerinde elimizin kaymaması için bir şeyler de var mı? Ya da bu kimin kalemiydi? Bununla neler yazıldı? Bir araştırmada, gönüllülere bazı kişilerin gözleri gösteriliyor. Yani yüzlerini kapatıyorlar, sadece gözlerini gösterek, o kişilerin duygularını tahmin etmelerini istiyorlar. Bu kişi üzgün mü, yoksa mutlu mu, yoksa kızgın mı? Sadece gözlerine bakıp bunu söyleyebilir misiniz? Hadi deneyin bakalım, şimdi. Sadece kendi gözlerimi size göstereceğim.\n",
            "Hazır mısınız? Tahmin edebildiniz mi? Evet bu gayet barışçıl bir yüzdü. Yapılan bir araştırmanın sonucu gösteriyor ki roman yani kurgu okuyan kişiler, kurgu olmayan kitapları okuyanlara göre çok daha isabetli tahminlerde bulunuyor. Bu da kurgu okumanın, empati yeteneğini geliştirdiğini gösteriyor. Yaa iyi güzelde ne okuyalım? Şöyle güncel bir kaç tane kit\n",
            "Summarized text\n",
            " Yani yani yüzlerini kapatıyorlar, o kişilerin duygularını tahmin etmelerini istiyorlar . Bu kişi üzgün mü, yoksa mutlu mu, yuksa kızgın mı? Tahmin edebildiniz mi? Bu da kurgu okumanın, empati yeteneğini geliştirdiğini gösteriliyor. Yaa iyi güzelde ne okuyalım?\n",
            "input text \n",
            "ap önerisinde bulun diyorsanız işte buyurun 2023'ün en iyi kitaplarına. Üstelik bunlar Türkiye'de 200.000'in üzerinde kullanılan oylarla belirlendi. Yalnızca 2023 yılında satışa çıkan yerli ve yabancı kitapların okurlar tarafından oylandığı Kitapyurdu Türkiye Okur Ödelleri sonuçlandı. Ve 10 farklı kategoride en iyi kitaplar belirlendi. Cumhuriyet'imizin 100.Yıl dönümünde Cumhuriyet'in Doğuşu adlı eser iki farklı kategoride en çok oyu aldı. Ünlü tarihçi İlber Ortaylı'nın Cumhuriyet'in ilk yıllarındaki mücadele ve kazanımları ele aldığı bu kitabı hem en iyi tarih kitabı ve hem de en iyi sosyal hayat kitabı seçildi. Büyük çekişmenin yaşandığı roman kategorisinde ise geçen yıldan bu yana en çok sevilen kitaplardan biri olan Şermin Yaşar'ın Söyleme Bilmesinler adlı eseri oyların çoğunluğunu alarak birinciliğe ulaştı. Hikaye kategorisinde ise İstanbul yazar ve şailerine adeta bir saygı duruşu niteliğinde olan Gölgeler adlı eseri ile Zülfü Livaneli kazanan oldu. Ben de bu vesile ile ülkemizde\n",
            "Summarized text\n",
            " Türkiye'de 200.000'in üzerinde kullanılan oylarla belirlendi . Bu yana en çok sevilen kitaplardan biri olan Şermin Yaşar'ın Söyleme Bilmesinler adlı eseri ile Zülfü Livaneli kazanan oldu .\n",
            "input text \n",
            "ki kitap ve okuma kültürüne yeni bir soluk yeni bir heyecan getirmeyi başaşrdıkları için Kitapyurdu Türkiye Okur Ödüllerine teşekkür ediyorum. Roman, hikaye, şiir, tarih, anı-deneme, felsefe, çocuk, sosyal hayat, dini hayat ve ilk kitabım kategorilerinde yarışan tüm eserleri ve kazananları görebilmek için açıklamalar bölümündeki bağlantıyı kullanabilirsiniz. Sevdiğiniz yazarlara, şairlere oradan ulaşabilir ve onların eserleriyle empati yeteneğinizi arttırabilirsiniz. Empati demişken… Bence yeterince önemsenmeyen bir kavram bu. Yani sırf empati yeteneğimi artıracağım diye birkaç bin sayfa kitap mı okumam gerekiyor diye hayıflanabilir doğal olarak insan. Şu hayatta ne tür yeteneklere sahip olmak istersin deseler, herhalde birçok kişinin empati demek aklına bile gelmez. Hayatımıza, “kendine yapılmasını istemediğin şeyi başkasına da yapma” gibi çok basit bir şekilde girdi. Oysa empati bundan çok daha fazlasını ifade ediyor. Karşınızdakinin duygularını anlayamıyorsanız, kendinizi onun yerin\n",
            "Summarized text\n",
            " Kitapyurdu Türkiye Okur Ödüllerine teşekkür ediyorum . Roman, hikaye, şiir, tarih, anı-deneme, felsefe, çocuk, sosyal hayat, dini hayat ve ilk kitabım kategorilerinde yarışan tüm eserleri ve kazananları görebilmek .\n",
            "input text \n",
            "e koyamıyorsanız, sürekli tekrar eden bir takım problemlerden de kurtulamazsınız. Bazı şeyler sürekli döner durur. İşyerinde problemler yaşarsınız, arkadaşlarınızla aranız açılır, ailenizde sorunlar çıkar… Oysa daha rahat empati kurabilen birisinin hayatında bunlar olsa bile bunlarla mücadele edebilmesi daha kolaydır. İstediğiniz kadar zeki olun, eğer kafanız bu tür problemlerle meşgulse pek de bir şey üretemezsiniz. Empati olmadan zeki olmak, çok güzel bir sesiniz olup hiç konuşmamak gibidir. Aslında bir dakika, bunun üzerine çok güzel bir dizi bile çekilmişti galiba değil mi? Yani kitaplar sadece yazılardan ibaret değildir. Aynı zamanda duyguları vardır. Biz onları okudukça, onlar da bize açılırlar bizimle yeteneklerini paylaşırlar. Kitaplardan çok şey öğrendiğimiz, hafızaya, yaratıcılığa katkısı olması çok akla yatkın şeyler. Sadece bu haliyle bile kitapların bilge olduğunu söyleyebiliriz. Ama asıl bilgelik başka bir yerden geliyor. Özellikle modern zamanların en büyük sorunlarından\n",
            "Summarized text\n",
            " Eğer kafanız bu tür problemlerle meşgulse pek de bir şey üretemezsiniz . Empati olmadan zeki olmak, çok güzel bir sesiniz olup hiç konuşmamak gibidir . Sadece bu haliyle bile kitapların bilge olduğunu söyleyebiliriz .\n",
            "input text \n",
            " biri stres ve anksiyete. Bu konuda yazılan kitapları kast etmiyorum tabi. Elbette onlar da yardımcı ama, herhangi bir kitap da bize bu konuda yardım edebilir. Ne olduğu da fark etmez… Enteresan değil mi? Yapılan bir araştırmada kitap okumanın stresi neredeyse %70’e kadar azalttığı gözlenmiş. Hatta kitaplar aracılığıyla bir terapi yöntemi bile var: Bibliyoterapi. Birçok kişi bundan çok verim aldığını da söylüyor. O modern hayatın telaşesinin içerisinde bir soluk alabilmek gibi aslında bu. Bazen kafamızda o kadar çok şey dönüyor ki, yapmamız gereken işe bile odaklanmakta zorlanıyoruz. Gideyim de bir videoyu çekeyim diyorum, aklıma faturalar geliyor. Faturayı ödeyeyim derken interneti açınca, bu sefer haber sitesi dikkatimi çekiyor. Oradan oraya sıçrarken insan bazen aklını yitirecek gibi oluyor. Ama kitaplar öyle mi yaa. Her satırında, yalnızca bir satır var. Sizi belirli bir ritimde okumaya davet ediyor. Hızla atmakta olan kalbinizi, yeniden düzenliyor. Bu yüzden kitaplar aynı zamanda \n",
            "Summarized text\n",
            " Yapılan bir araştırmada kitap okumanın stresi neredeyse %70’e kadar azalttığı gözlenmiş . Elbette onlar da yardımcı ama, herhangi bir kitap da bize bu konuda yardım edebilir .\n",
            "input text \n",
            "bilgedir. Hayatta bazen yolumuzu kaybettiğimizde, bize ışık olurlar. Kitaplar gözümüzü açtığı gibi, aynı zamanda gözümüzü kapatmaya da yardımcı oluyor. Yatmadan önce kitap okumak diye bir şey var değil mi hayatımızda. Gerçi onu daha çok, “Gündüz buna vakit ayıramam bari yatmadan önce şöyle bir göz atayım.” düşüncesiyle söylüyoruz da neyse… Halbuki böyle yapıldığında, yani yatmadan önce kitap okunduğunda, daha kolay uykuya daldığımızı gösteren bilimsel araştırmalar var. Hani malum, bu mu, yoksa bu mu sorusunda olduğu gibi. Biliyorum birçoğunuzun uyumadan önce gördüğü en son sahne bu. Fakat birçok araştırma gösteriyor ki, yatmadan önce ekranlara bakmak hem uyumamızı zorlaştırıyor hem de uykumuzun verimini düşürüyor. Bütün video boyunca bilimsel araştırmaları size ekranlardan gösterdim ama, artık yatma vakti geldi. O yüzden buna geçeceğim şimdi. Sadece bahsettiğim uyku meselesi sebebiyle değil, aynı zamanda kitaba dokunmanın, o sayfaları çevirmenin de bir etkisi olduğundan. Parmaklarınızd\n",
            "Summarized text\n",
            " Yatmadan önce kitap okumak diye bir şey var değil mi hayatımızda. Hayatta bazen yolumuzu kaybettiğimizde, bize ışık olurlar. Aynı zamanda gözümüzü kapatmaya da yardımcı oluyor .\n",
            "input text \n",
            "a kitabı hissetmek, sayfalarını çevirmek, o dokuyu hatta kokuyu hissetmek, beyinde birçok farklı bölgeyi aktive ediyor. En basit haliyle, daha zengin bir deneyim sunuyor aslında bizlere. Bunun da derin öğrenmeyi artırdığına işaret eden bazı çalışmalar var. Gerçekten de düşününce bazı kitaplar var ki, o kokuyu hatırlayınca bile, kitaptaki hikayenin içerisine tekrar sürükleniyorum. Umarım bu koku, Veba’nın kokusu değildir!\n",
            "Summarized text\n",
            " En basit haliyle, daha zengin bir deneyim sunuyor aslında bizlere. Bunun da derin öğrenmeyi artırdığına işaret eden bazı çalışmalar var .\n"
          ]
        }
      ]
    }
  ]
}